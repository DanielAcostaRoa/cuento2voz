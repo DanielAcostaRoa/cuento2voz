{
 "cells": [
  {
   "cell_type": "markdown",
   "metadata": {},
   "source": [
    "# Cuento2Voz\n",
    "Este notebook de python permite convertir un cuento en voz utilizando la libreria de google speech (gTTS). Tomamos como ejemplo un libro pdf con multiples cuentos por pagina y generamos un archivo mp3 por cada cuento."
   ]
  },
  {
   "cell_type": "markdown",
   "metadata": {},
   "source": [
    "Instalacion de dependencias:"
   ]
  },
  {
   "cell_type": "code",
   "execution_count": 1,
   "metadata": {},
   "outputs": [
    {
     "name": "stdout",
     "output_type": "stream",
     "text": [
      "Requirement already satisfied: gTTS in /home/danroa/.local/lib/python3.8/site-packages (2.2.4)\n",
      "Requirement already satisfied: six in /usr/lib/python3/dist-packages (from gTTS) (1.14.0)\n",
      "Requirement already satisfied: click in /usr/lib/python3/dist-packages (from gTTS) (7.0)\n",
      "Requirement already satisfied: requests in /usr/lib/python3/dist-packages (from gTTS) (2.22.0)\n",
      "Note: you may need to restart the kernel to use updated packages.\n"
     ]
    }
   ],
   "source": [
    "%pip install gTTS"
   ]
  },
  {
   "cell_type": "code",
   "execution_count": 2,
   "metadata": {},
   "outputs": [
    {
     "name": "stdout",
     "output_type": "stream",
     "text": [
      "Requirement already satisfied: PyPDF2 in /home/danroa/.local/lib/python3.8/site-packages (2.10.4)\n",
      "Requirement already satisfied: typing-extensions>=3.10.0.0; python_version < \"3.10\" in /home/danroa/.local/lib/python3.8/site-packages (from PyPDF2) (4.0.1)\n",
      "Note: you may need to restart the kernel to use updated packages.\n"
     ]
    }
   ],
   "source": [
    "%pip install PyPDF2"
   ]
  },
  {
   "cell_type": "markdown",
   "metadata": {},
   "source": [
    "Codigo principal:"
   ]
  },
  {
   "cell_type": "code",
   "execution_count": 3,
   "metadata": {},
   "outputs": [],
   "source": [
    "from gtts import gTTS\n",
    "import PyPDF2"
   ]
  },
  {
   "cell_type": "code",
   "execution_count": 4,
   "metadata": {},
   "outputs": [],
   "source": [
    "# Test gTTS library\n",
    "tts = gTTS('Hola mundo desde Python jajaja xd xd', lang='es', tld='com.mx')\n",
    "tts.save('holaMundo.mp3')"
   ]
  },
  {
   "cell_type": "code",
   "execution_count": 5,
   "metadata": {},
   "outputs": [],
   "source": [
    "def cuento2speech(cuento, nameOutput):\n",
    "    tts = gTTS(cuento, lang='es', tld='com.mx')\n",
    "    tts.save(nameOutput+'.mp3')\n",
    "    print('Se ha creado el archivo: '+nameOutput+'.mp3')\n",
    "    return"
   ]
  },
  {
   "cell_type": "code",
   "execution_count": 33,
   "metadata": {},
   "outputs": [
    {
     "name": "stdout",
     "output_type": "stream",
     "text": [
      "Se ha creado el archivo: ./cuentos/pag_9.mp3\n",
      "Se ha creado el archivo: ./cuentos/pag_10.mp3\n",
      "Se ha creado el archivo: ./cuentos/pag_11.mp3\n",
      "Se ha creado el archivo: ./cuentos/pag_12.mp3\n",
      "Se ha creado el archivo: ./cuentos/pag_13.mp3\n",
      "Se ha creado el archivo: ./cuentos/pag_14.mp3\n",
      "Se ha creado el archivo: ./cuentos/pag_15.mp3\n",
      "Se ha creado el archivo: ./cuentos/pag_16.mp3\n",
      "Se ha creado el archivo: ./cuentos/pag_17.mp3\n",
      "Se ha creado el archivo: ./cuentos/pag_18.mp3\n",
      "Se ha creado el archivo: ./cuentos/pag_19.mp3\n",
      "Se ha creado el archivo: ./cuentos/pag_20.mp3\n",
      "Se ha creado el archivo: ./cuentos/pag_21.mp3\n",
      "Se ha creado el archivo: ./cuentos/pag_22.mp3\n",
      "Se ha creado el archivo: ./cuentos/pag_23.mp3\n",
      "Se ha creado el archivo: ./cuentos/pag_24.mp3\n",
      "Se ha creado el archivo: ./cuentos/pag_25.mp3\n",
      "Se ha creado el archivo: ./cuentos/pag_26.mp3\n",
      "Se ha creado el archivo: ./cuentos/pag_27.mp3\n",
      "Se ha creado el archivo: ./cuentos/pag_28.mp3\n",
      "Se ha creado el archivo: ./cuentos/pag_29.mp3\n",
      "Se ha creado el archivo: ./cuentos/pag_30.mp3\n",
      "Se ha creado el archivo: ./cuentos/pag_31.mp3\n",
      "Se ha creado el archivo: ./cuentos/pag_32.mp3\n",
      "Se ha creado el archivo: ./cuentos/pag_33.mp3\n",
      "Se ha creado el archivo: ./cuentos/pag_34.mp3\n",
      "Se ha creado el archivo: ./cuentos/pag_35.mp3\n",
      "Se ha creado el archivo: ./cuentos/pag_36.mp3\n"
     ]
    }
   ],
   "source": [
    "#Open the pdf file\n",
    "pdfFileObj = open('cuentos.pdf', 'rb')\n",
    "pdfReader = PyPDF2.PdfFileReader(pdfFileObj)\n",
    "\n",
    "for i in range(8,36):\n",
    " cuento = pdfReader.getPage(i).extractText()\n",
    " cuento2speech(cuento, \"./cuentos/pag_\"+ str(i+1))\n",
    "\n",
    "pdfFileObj.close()"
   ]
  },
  {
   "cell_type": "code",
   "execution_count": 34,
   "metadata": {},
   "outputs": [
    {
     "name": "stdout",
     "output_type": "stream",
     "text": [
      "Se ha creado el archivo: ./historia.mp3\n"
     ]
    }
   ],
   "source": [
    "#Open the pdf file\n",
    "pdfFileObj = open('historia.pdf', 'rb')\n",
    "pdfReader = PyPDF2.PdfFileReader(pdfFileObj)\n",
    "\n",
    "cuento = pdfReader.getPage(0).extractText() + pdfReader.getPage(1).extractText()\n",
    "cuento2speech(cuento, \"./historia\")\n"
   ]
  },
  {
   "cell_type": "code",
   "execution_count": 36,
   "metadata": {},
   "outputs": [
    {
     "name": "stdout",
     "output_type": "stream",
     "text": [
      "Se ha creado el archivo: ./ecuaciones.mp3\n"
     ]
    }
   ],
   "source": [
    "#Open the pdf file\n",
    "pdfFileObj = open('Ecuaciones.pdf', 'rb')\n",
    "pdfReader = PyPDF2.PdfFileReader(pdfFileObj)\n",
    "\n",
    "cuento = pdfReader.getPage(0).extractText()\n",
    "cuento2speech(cuento, \"./ecuaciones\")\n"
   ]
  },
  {
   "cell_type": "code",
   "execution_count": null,
   "metadata": {},
   "outputs": [],
   "source": []
  }
 ],
 "metadata": {
  "kernelspec": {
   "display_name": "Python 3.8.10 64-bit",
   "language": "python",
   "name": "python3"
  },
  "language_info": {
   "codemirror_mode": {
    "name": "ipython",
    "version": 3
   },
   "file_extension": ".py",
   "mimetype": "text/x-python",
   "name": "python",
   "nbconvert_exporter": "python",
   "pygments_lexer": "ipython3",
   "version": "3.8.10"
  },
  "orig_nbformat": 4,
  "vscode": {
   "interpreter": {
    "hash": "916dbcbb3f70747c44a77c7bcd40155683ae19c65e1c03b4aa3499c5328201f1"
   }
  }
 },
 "nbformat": 4,
 "nbformat_minor": 2
}
