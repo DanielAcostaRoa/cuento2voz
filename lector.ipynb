{
 "cells": [
  {
   "cell_type": "code",
   "execution_count": 2,
   "metadata": {},
   "outputs": [],
   "source": [
    "from googletrans import Translator\n",
    "import googletrans\n",
    "from gtts import gTTS\n",
    "import PyPDF2\n",
    "import os\n",
    "import pyttsx3"
   ]
  },
  {
   "attachments": {},
   "cell_type": "markdown",
   "metadata": {},
   "source": [
    "### Reader\n"
   ]
  },
  {
   "cell_type": "code",
   "execution_count": 17,
   "metadata": {},
   "outputs": [],
   "source": [
    "class Reader:\n",
    "\t\tdef __init__(self, pdf_file,init_page=0):\n",
    "\t\t\t\tself.titulo = pdf_file\n",
    "\t\t\t\tself.pdf = open(pdf_file, 'rb')\n",
    "\t\t\t\tself.pdf_reader = PyPDF2.PdfReader(self.pdf)\n",
    "\t\t\t\tself.num_pages = len(self.pdf_reader.pages)\n",
    "\t\t\t\tself.actual_page = init_page\n",
    "\t\t\t\tself.page = self.pdf_reader.pages[self.actual_page]\n",
    "\t\t\t\tself.from_lang = 'en'\n",
    "\t\t\t\tself.to_lang = 'es'\n",
    "    \n",
    "\t\tdef format(self, text):\n",
    "\t\t\t\ttext = text.replace('\\n', ' ')\n",
    "\t\t\t\ttext = text.replace('\\t', ' ')\n",
    "\t\t\t\ttext = text.replace('    ', ' ')\n",
    "\t\t\t\ttext = text.replace('   ', ' ')\n",
    "\t\t\t\ttext = text.replace('  ', ' ')\n",
    "\t\t\t\treturn self.translete(text)\n",
    "\t\t\n",
    "\t\tdef translete(self,text):\n",
    "\t\t\t\ttranslator = Translator()\n",
    "\t\t\t\ttext_to_translate = translator.translate(text,src= self.from_lang,dest= self.to_lang)\n",
    "\t\t\t\treturn text_to_translate.text\n",
    "\t\t\n",
    "\t\tdef save_audio(self, text):\n",
    "\t\t\t\tspeak = gTTS(text=text, lang=self.to_lang, slow= False)\n",
    "\t\t\t\tspeak.save(self.titulo.split('.')[0] + \"_\" + str(self.actual_page) + '.mp3')\n",
    "\n",
    "\t\tdef get(self):\n",
    "\t\t\t\ttext = self.page.extract_text()\n",
    "\t\t\t\tself.page = self.pdf_reader.pages[self.actual_page]\n",
    "\t\t\t\tself.actual_page += 1\n",
    "\t\t\t\ttext_response = self.format(text)\n",
    "\t\t\t\tself.save_audio(text_response)\n",
    "\t\t\t\treturn text_response"
   ]
  },
  {
   "cell_type": "code",
   "execution_count": 18,
   "metadata": {},
   "outputs": [],
   "source": [
    "book = Reader(\"arena.pdf\", 0)"
   ]
  },
  {
   "cell_type": "code",
   "execution_count": null,
   "metadata": {},
   "outputs": [],
   "source": [
    "book.get()"
   ]
  }
 ],
 "metadata": {
  "kernelspec": {
   "display_name": "Python 3",
   "language": "python",
   "name": "python3"
  },
  "language_info": {
   "codemirror_mode": {
    "name": "ipython",
    "version": 3
   },
   "file_extension": ".py",
   "mimetype": "text/x-python",
   "name": "python",
   "nbconvert_exporter": "python",
   "pygments_lexer": "ipython3",
   "version": "3.11.0"
  },
  "orig_nbformat": 4,
  "vscode": {
   "interpreter": {
    "hash": "c261aea317cc0286b3b3261fbba9abdec21eaa57589985bb7a274bf54d6cc0a7"
   }
  }
 },
 "nbformat": 4,
 "nbformat_minor": 2
}
